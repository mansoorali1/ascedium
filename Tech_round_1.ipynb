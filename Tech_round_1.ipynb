{
  "nbformat": 4,
  "nbformat_minor": 0,
  "metadata": {
    "colab": {
      "provenance": []
    },
    "kernelspec": {
      "name": "python3",
      "display_name": "Python 3"
    },
    "language_info": {
      "name": "python"
    }
  },
  "cells": [
    {
      "cell_type": "code",
      "source": [
        "import numpy as np"
      ],
      "metadata": {
        "id": "UIH3fK2_cKmG"
      },
      "execution_count": 1,
      "outputs": []
    },
    {
      "cell_type": "code",
      "execution_count": 28,
      "metadata": {
        "id": "i8IjxTGBUjAE"
      },
      "outputs": [],
      "source": [
        "import numpy as np\n",
        "def spiral(n):\n",
        "  matrix = np.array([[0]*n for _ in range(n)])\n",
        "  top, bottom = 0,n-1\n",
        "  left, right = 0,n-1\n",
        "  num = 1\n",
        "\n",
        "  while top<=bottom and left <=right:\n",
        "\n",
        "    for i in range(left,right+1):\n",
        "      matrix[top][i] = num\n",
        "      num+=1\n",
        "    top+=1\n",
        "\n",
        "    for i in range(top, bottom+1):\n",
        "      matrix[i][right] = num\n",
        "      num+=1\n",
        "    right-=1\n",
        "\n",
        "    for i in range(right,left-1,-1):\n",
        "      matrix[bottom][i] = num\n",
        "      num+=1\n",
        "    bottom-=1\n",
        "\n",
        "    for i in range(bottom, top-1,-1):\n",
        "      matrix[i][left] = num\n",
        "      num+=1\n",
        "    left+=1\n",
        "\n",
        "  return matrix\n",
        "spiral(4)"
      ]
    },
    {
      "cell_type": "code",
      "source": [
        "spiral(4)"
      ],
      "metadata": {
        "colab": {
          "base_uri": "https://localhost:8080/"
        },
        "id": "pq4T84OLUkAH",
        "outputId": "b040137b-fcb3-4d37-a68c-65ad9313d5ed"
      },
      "execution_count": 29,
      "outputs": [
        {
          "output_type": "execute_result",
          "data": {
            "text/plain": [
              "array([[ 1,  2,  3,  4],\n",
              "       [12, 13, 14,  5],\n",
              "       [11, 16, 15,  6],\n",
              "       [10,  9,  8,  7]])"
            ]
          },
          "metadata": {},
          "execution_count": 29
        }
      ]
    },
    {
      "cell_type": "code",
      "source": [
        "spiral(5)"
      ],
      "metadata": {
        "colab": {
          "base_uri": "https://localhost:8080/"
        },
        "id": "GPXY0joFUj9M",
        "outputId": "7dc0c032-64b7-409a-ae01-b2aec3e57c49"
      },
      "execution_count": 25,
      "outputs": [
        {
          "output_type": "execute_result",
          "data": {
            "text/plain": [
              "array([[ 1,  2,  3,  4,  5],\n",
              "       [16, 17, 18, 19,  6],\n",
              "       [15, 24, 25, 20,  7],\n",
              "       [14, 23, 22, 21,  8],\n",
              "       [13, 12, 11, 10,  9]])"
            ]
          },
          "metadata": {},
          "execution_count": 25
        }
      ]
    },
    {
      "cell_type": "code",
      "source": [
        "spiral(3)"
      ],
      "metadata": {
        "colab": {
          "base_uri": "https://localhost:8080/"
        },
        "id": "LeUCFWM-Uj6b",
        "outputId": "c1dcb33e-a3f4-4659-ed3b-bb49578524a6"
      },
      "execution_count": 26,
      "outputs": [
        {
          "output_type": "execute_result",
          "data": {
            "text/plain": [
              "array([[1, 2, 3],\n",
              "       [8, 9, 4],\n",
              "       [7, 6, 5]])"
            ]
          },
          "metadata": {},
          "execution_count": 26
        }
      ]
    },
    {
      "cell_type": "code",
      "source": [
        "spiral(6)"
      ],
      "metadata": {
        "colab": {
          "base_uri": "https://localhost:8080/"
        },
        "id": "OG4aLpNTUj2L",
        "outputId": "9138d37f-5650-47c0-d484-c56e44c827be"
      },
      "execution_count": 27,
      "outputs": [
        {
          "output_type": "execute_result",
          "data": {
            "text/plain": [
              "array([[ 1,  2,  3,  4,  5,  6],\n",
              "       [20, 21, 22, 23, 24,  7],\n",
              "       [19, 32, 33, 34, 25,  8],\n",
              "       [18, 31, 36, 35, 26,  9],\n",
              "       [17, 30, 29, 28, 27, 10],\n",
              "       [16, 15, 14, 13, 12, 11]])"
            ]
          },
          "metadata": {},
          "execution_count": 27
        }
      ]
    },
    {
      "cell_type": "code",
      "source": [],
      "metadata": {
        "id": "9whMXdBEUjy5"
      },
      "execution_count": null,
      "outputs": []
    },
    {
      "cell_type": "code",
      "source": [],
      "metadata": {
        "id": "jAFcKuL_Ujv_"
      },
      "execution_count": null,
      "outputs": []
    },
    {
      "cell_type": "code",
      "source": [],
      "metadata": {
        "id": "Oboa5Uu9UjtV"
      },
      "execution_count": null,
      "outputs": []
    },
    {
      "cell_type": "code",
      "source": [],
      "metadata": {
        "id": "VPZ7iYsMUjqr"
      },
      "execution_count": null,
      "outputs": []
    },
    {
      "cell_type": "code",
      "source": [],
      "metadata": {
        "id": "KyxKlDS1Ujnx"
      },
      "execution_count": null,
      "outputs": []
    },
    {
      "cell_type": "code",
      "source": [],
      "metadata": {
        "id": "2hZ_T93MUjkv"
      },
      "execution_count": null,
      "outputs": []
    },
    {
      "cell_type": "code",
      "source": [],
      "metadata": {
        "id": "qvHmwScCUjg3"
      },
      "execution_count": null,
      "outputs": []
    }
  ]
}